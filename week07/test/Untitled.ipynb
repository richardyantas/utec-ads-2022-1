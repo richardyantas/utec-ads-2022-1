{
 "cells": [
  {
   "cell_type": "code",
   "execution_count": 10,
   "id": "a61f6d4c-1e07-4f70-8e40-63ee5073b8bb",
   "metadata": {},
   "outputs": [],
   "source": [
    "#include<iostream>\n",
    "#include<queue>\n",
    "using namespace std;\n"
   ]
  },
  {
   "cell_type": "code",
   "execution_count": 13,
   "id": "8eba0a1a-687c-4878-b1c0-59b5acebcdf0",
   "metadata": {},
   "outputs": [
    {
     "name": "stderr",
     "output_type": "stream",
     "text": [
      "\u001b[1minput_line_32:2:13: \u001b[0m\u001b[0;1;31merror: \u001b[0m\u001b[1mno matching constructor for initialization of 'queue<int>'\u001b[0m\n",
      " queue<int> q;\n",
      "\u001b[0;1;32m            ^\n",
      "\u001b[0m\u001b[1m/usr/lib/gcc/x86_64-linux-gnu/7.5.0/../../../../include/c++/7.5.0/bits/stl_queue.h:152:2: \u001b[0m\u001b[0;1;30mnote: \u001b[0mcandidate template ignored: substitution failure [with _Seq = std::deque<int, std::allocator<int> >]: no member named 'value' in 'std::is_default_constructible<std::deque<int, std::allocator<int> > >'\u001b[0m\n",
      "        queue()\n",
      "\u001b[0;1;32m        ^\n",
      "\u001b[0m\u001b[1m/usr/lib/gcc/x86_64-linux-gnu/7.5.0/../../../../include/c++/7.5.0/bits/stl_queue.h:165:2: \u001b[0m\u001b[0;1;30mnote: \u001b[0mcandidate constructor template not viable: requires single argument '__a', but no arguments were provided\u001b[0m\n",
      "        queue(const _Alloc& __a)\n",
      "\u001b[0;1;32m        ^\n",
      "\u001b[0m\u001b[1m/usr/lib/gcc/x86_64-linux-gnu/7.5.0/../../../../include/c++/7.5.0/bits/stl_queue.h:169:2: \u001b[0m\u001b[0;1;30mnote: \u001b[0mcandidate constructor template not viable: requires 2 arguments, but 0 were provided\u001b[0m\n",
      "        queue(const _Sequence& __c, const _Alloc& __a)\n",
      "\u001b[0;1;32m        ^\n",
      "\u001b[0m\u001b[1m/usr/lib/gcc/x86_64-linux-gnu/7.5.0/../../../../include/c++/7.5.0/bits/stl_queue.h:173:2: \u001b[0m\u001b[0;1;30mnote: \u001b[0mcandidate constructor template not viable: requires 2 arguments, but 0 were provided\u001b[0m\n",
      "        queue(_Sequence&& __c, const _Alloc& __a)\n",
      "\u001b[0;1;32m        ^\n",
      "\u001b[0m\u001b[1m/usr/lib/gcc/x86_64-linux-gnu/7.5.0/../../../../include/c++/7.5.0/bits/stl_queue.h:177:2: \u001b[0m\u001b[0;1;30mnote: \u001b[0mcandidate constructor template not viable: requires 2 arguments, but 0 were provided\u001b[0m\n",
      "        queue(const queue& __q, const _Alloc& __a)\n",
      "\u001b[0;1;32m        ^\n",
      "\u001b[0m\u001b[1m/usr/lib/gcc/x86_64-linux-gnu/7.5.0/../../../../include/c++/7.5.0/bits/stl_queue.h:181:2: \u001b[0m\u001b[0;1;30mnote: \u001b[0mcandidate constructor template not viable: requires 2 arguments, but 0 were provided\u001b[0m\n",
      "        queue(queue&& __q, const _Alloc& __a)\n",
      "\u001b[0;1;32m        ^\n",
      "\u001b[0m\u001b[1m/usr/lib/gcc/x86_64-linux-gnu/7.5.0/../../../../include/c++/7.5.0/bits/stl_queue.h:156:7: \u001b[0m\u001b[0;1;30mnote: \u001b[0mcandidate constructor not viable: requires single argument '__c', but no arguments were provided\u001b[0m\n",
      "      queue(const _Sequence& __c)\n",
      "\u001b[0;1;32m      ^\n",
      "\u001b[0m\u001b[1m/usr/lib/gcc/x86_64-linux-gnu/7.5.0/../../../../include/c++/7.5.0/bits/stl_queue.h:160:7: \u001b[0m\u001b[0;1;30mnote: \u001b[0mcandidate constructor not viable: requires single argument '__c', but no arguments were provided\u001b[0m\n",
      "      queue(_Sequence&& __c)\n",
      "\u001b[0;1;32m      ^\n",
      "\u001b[0m\u001b[1m/usr/lib/gcc/x86_64-linux-gnu/7.5.0/../../../../include/c++/7.5.0/bits/stl_queue.h:96:11: \u001b[0m\u001b[0;1;30mnote: \u001b[0mcandidate constructor (the implicit copy constructor) not viable: requires 1 argument, but 0 were provided\u001b[0m\n",
      "    class queue\n",
      "\u001b[0;1;32m          ^\n",
      "\u001b[0m\u001b[1m/usr/lib/gcc/x86_64-linux-gnu/7.5.0/../../../../include/c++/7.5.0/bits/stl_queue.h:96:11: \u001b[0m\u001b[0;1;30mnote: \u001b[0mcandidate constructor (the implicit move constructor) not viable: requires 1 argument, but 0 were provided\u001b[0m\n"
     ]
    },
    {
     "ename": "Interpreter Error",
     "evalue": "",
     "output_type": "error",
     "traceback": [
      "Interpreter Error: "
     ]
    }
   ],
   "source": [
    "queue<int> q;\n",
    "q.push(3);\n",
    "q.push(4);\n",
    "//q.push(7);\n",
    "\n",
    "//int curr = q.front();\n",
    "//q.pop();\n",
    "//q.front();\n"
   ]
  }
 ],
 "metadata": {
  "kernelspec": {
   "display_name": "C++17",
   "language": "C++17",
   "name": "xcpp17"
  },
  "language_info": {
   "codemirror_mode": "text/x-c++src",
   "file_extension": ".cpp",
   "mimetype": "text/x-c++src",
   "name": "c++",
   "version": "17"
  }
 },
 "nbformat": 4,
 "nbformat_minor": 5
}
